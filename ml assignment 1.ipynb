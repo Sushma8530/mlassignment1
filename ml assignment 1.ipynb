{
 "cells": [
  {
   "cell_type": "markdown",
   "id": "9682d0c0",
   "metadata": {},
   "source": [
    "# Q1"
   ]
  },
  {
   "cell_type": "code",
   "execution_count": 1,
   "id": "e890acf4",
   "metadata": {},
   "outputs": [
    {
     "name": "stdout",
     "output_type": "stream",
     "text": [
      "after sorting the list is  [19, 19, 20, 22, 24, 24, 24, 25, 25, 26]\n",
      "The min age is : 19\n",
      "The max age is : 26\n",
      "after adding the min and max ages: [19, 19, 20, 22, 24, 24, 24, 25, 25, 26, 19, 26]\n",
      "median age: 24.0\n",
      "Average age: 22.75\n",
      "Range of ages : 7\n"
     ]
    }
   ],
   "source": [
    "\n",
    "import statistics\n",
    "ages=[19,22,19,24,20,25,26,24,25,24]\n",
    "#sorting the ages\n",
    "ages.sort()\n",
    "print(\"after sorting the list is \", ages) \n",
    "#find the min and max of ages\n",
    "Min=min(ages)\n",
    "Max=max(ages)\n",
    "print(\"The min age is :\", Min)\n",
    "print(\"The max age is :\", Max)\n",
    "#add the min and max ages to the list\n",
    "ages.append(Min)\n",
    "ages.append(Max)\n",
    "print(\"after adding the min and max ages:\",ages)\n",
    "#find the median of ages\n",
    "Median=statistics.median(ages)\n",
    "print(\"median age:\",Median)\n",
    "#find the average of ages\n",
    "Average=statistics.mean(ages)\n",
    "print(\"Average age:\",Average)\n",
    "#find the range  of ages\n",
    "Range=Max-Min\n",
    "print(\"Range of ages :\", Range)\n"
   ]
  },
  {
   "cell_type": "markdown",
   "id": "9e07d7fe",
   "metadata": {},
   "source": [
    "# Q2"
   ]
  },
  {
   "cell_type": "code",
   "execution_count": 2,
   "id": "44be4087",
   "metadata": {},
   "outputs": [
    {
     "name": "stdout",
     "output_type": "stream",
     "text": [
      "{'name': 'Oreo', 'color': 'white', 'breed': 'pomeranian', 'legs': 4, 'age': 3}\n",
      "{'first_name': 'Sushma', 'last_name': 'Kasoju', 'gender': 'Female', 'age': 22, 'Marital_status': 'Single', 'skills': ['C', 'Python'], 'country': 'India', 'city': 'Hyderabad', 'address': 'Balanagar'}\n",
      "9\n",
      "['C', 'Python']\n",
      "<class 'list'>\n",
      "{'first_name': 'Sushma', 'last_name': 'Kasoju', 'gender': 'Female', 'age': 22, 'Marital_status': 'Single', 'skills': ['C', 'Python'], 'country': 'India', 'city': 'Hyderabad', 'address': 'Balanagar'}\n",
      "['first_name', 'last_name', 'gender', 'age', 'Marital_status', 'skills', 'country', 'city', 'address']\n",
      "['Sushma', 'Kasoju', 'Female', 22, 'Single', ['C', 'Python'], 'India', 'Hyderabad', 'Balanagar']\n"
     ]
    }
   ],
   "source": [
    "#create an empty dictionary called dog\n",
    "dog={}\n",
    "dog['name']= 'Oreo'\n",
    "dog['color']= 'white'\n",
    "dog['breed']= 'pomeranian'\n",
    "dog['legs']=4\n",
    "dog['age']=3\n",
    "print(dog)\n",
    "\n",
    "#create a student dictionary\n",
    "student=dict()\n",
    "student['first_name']='Sushma'\n",
    "student['last_name']= 'Kasoju'\n",
    "student['gender']='Female'\n",
    "student['age']=22\n",
    "student['Marital_status']='Single'\n",
    "student['skills']=['C','Python']\n",
    "student['country']='India'\n",
    "student['city']='Hyderabad'\n",
    "student['address']= 'Balanagar'\n",
    "print(student)\n",
    "#length of the student dictionary\n",
    "len_of_student= len(student)\n",
    "print(len_of_student)\n",
    "#Get the value of skills and check the data type, it should be a list\n",
    "skills_of_student= student.get('skills')\n",
    "print(skills_of_student)\n",
    "print(type(skills_of_student))\n",
    "#Modify the skills values by adding one or two skills\n",
    "student.update({'skills':['C','Python']})\n",
    "print(student)\n",
    "#Get the dictionary keys as a list\n",
    "student_keys= list(student.keys())\n",
    "print(student_keys)\n",
    "#Get the dictionary values as a list\n",
    "student_values= list(student.values())\n",
    "print(student_values)\n",
    "\n"
   ]
  },
  {
   "cell_type": "markdown",
   "id": "dc478718",
   "metadata": {},
   "source": [
    "# Q3\n"
   ]
  },
  {
   "cell_type": "code",
   "execution_count": 3,
   "id": "8458523c",
   "metadata": {},
   "outputs": [
    {
     "name": "stdout",
     "output_type": "stream",
     "text": [
      "('hepsiba', 'divya', 'bablu', 'nivas')\n",
      "4\n",
      "family_members ('hepsiba', 'divya', 'bablu', 'nivas', 'venkatesh', 'akhila')\n"
     ]
    }
   ],
   "source": [
    "sisters=('hepsiba','divya')\n",
    "brothers=('bablu','nivas')\n",
    "#Join brothers and sisters tuples and assign it to siblings\n",
    "siblings=sisters+brothers\n",
    "print(siblings)\n",
    "#siblings count\n",
    "siblings_count=len(siblings)\n",
    "print(siblings_count)\n",
    "#adding the name of your father and mother and assign it to family_members\n",
    "Father=\"venkatesh\"\n",
    "Mother=\"akhila\"\n",
    "family_members=list(siblings)\n",
    "family_members.append(Father)\n",
    "family_members.append(Mother)\n",
    "family_members=tuple(family_members)\n",
    "print(\"family_members\",family_members)"
   ]
  },
  {
   "cell_type": "markdown",
   "id": "c9dcedda",
   "metadata": {},
   "source": [
    "# Q4"
   ]
  },
  {
   "cell_type": "code",
   "execution_count": 1,
   "id": "18db2976",
   "metadata": {},
   "outputs": [
    {
     "name": "stdout",
     "output_type": "stream",
     "text": [
      "{'Facebook', 'Apple', 'Microsoft', 'Oracle', 'IBM', 'Amazon', 'Google'}\n",
      "{'Facebook', 'Apple', 'Microsoft', 'Twitter', 'Oracle', 'IBM', 'Amazon', 'Google'}\n",
      "{'Facebook', 'Apple', 'Twitter', 'Deloitte', 'Accenture', 'Oracle', 'Google', 'Microsoft', 'IBM', 'Amazon', 'Virtusa'}\n",
      "{'Facebook', 'Apple', 'Twitter', 'Deloitte', 'Accenture', 'Oracle', 'Google', 'Microsoft', 'IBM', 'Amazon'}\n",
      "A union B\n",
      "{19, 20, 22, 24, 25, 26}\n",
      "True\n",
      "False\n",
      "join A with B {19, 20, 22, 24, 25, 26, 27, 28}\n",
      "join B with A {19, 20, 22, 24, 25, 26, 27, 28}\n",
      "symmetric difference between A and B: {27, 28}\n",
      "length of list and set is same: False\n"
     ]
    }
   ],
   "source": [
    "it_companies = {'Facebook', 'Google', 'Microsoft', 'Apple', 'IBM', 'Oracle', 'Amazon'}\n",
    "A = {19, 22, 24, 20, 25, 26}\n",
    "B = {19, 22, 20, 25, 26, 24, 28, 27}\n",
    "age = [22, 19, 24, 25, 26, 24, 25, 24]\n",
    "#Find the length of the set it_companies\n",
    "len_0f_it=len(it_companies)\n",
    "print(it_companies)\n",
    "#Add 'Twitter' to it_companies\n",
    "it_companies.add('Twitter')\n",
    "print(it_companies)\n",
    "#Insert multiple IT companies at once to the set it_companies\n",
    "it_companies.update({'Deloitte','Accenture','Virtusa'})\n",
    "print(it_companies)\n",
    "#Remove one of the companies from the set it_companies\n",
    "it_companies.remove('Virtusa')\n",
    "print(it_companies)\n",
    "#What is the difference between remove and discard\n",
    "#Remove:if the requested item doesnot exist, the remove()will generate an error\n",
    "#Discard:if the requested item doesnot exist, the discard() will NOT generate an error\n",
    "#Join A and B\n",
    "C=A.union(B)\n",
    "print(\"A union B\")\n",
    "#Find A intersection B\n",
    "A_inter_B=A.intersection(B)\n",
    "print(A_inter_B)\n",
    "#Is A subset of B\n",
    "subset_check=A.issubset(B)\n",
    "print(subset_check)\n",
    "#Are A and B disjoint sets\n",
    "disjoint_check=A.isdisjoint(B)\n",
    "print(disjoint_check)\n",
    "#Join A with B and B with A\n",
    "D=A.union(B)\n",
    "E=B.union(A)\n",
    "print(\"join A with B\",D)\n",
    "print(\"join B with A\",E)\n",
    "#symmetric difference between A and B\n",
    "H=A.symmetric_difference(B)\n",
    "print(\"symmetric difference between A and B:\",H)\n",
    "#Delete the sets completely\n",
    "del A,B\n",
    "#Convert the ages to a set and compare the length of the list and the set.\n",
    "I=set(age)\n",
    "print(\"length of list and set is same:\",len(I)==len(age))\n"
   ]
  },
  {
   "cell_type": "markdown",
   "id": "113f17d9",
   "metadata": {},
   "source": [
    "Q5"
   ]
  },
  {
   "cell_type": "code",
   "execution_count": 13,
   "id": "c60b7a66",
   "metadata": {},
   "outputs": [
    {
     "name": "stdout",
     "output_type": "stream",
     "text": [
      "Area of the circle : 2827.4333882308138\n",
      "circumference of the circle: 188.49555921538757\n",
      "enter the radius value:10\n",
      "for given radius: 10.0 \n",
      "Area 314.1592653589793\n"
     ]
    }
   ],
   "source": [
    "import math\n",
    "constant=math.pi\n",
    "radius=30\n",
    "#calculate the area of the circle and assigning the value\n",
    "Area=constant*radius*radius\n",
    "print(\"Area of the circle :\",Area)\n",
    "#calculate the circumference of the circle and assigning the value\n",
    "circumference=2*constant*radius\n",
    "print(\"circumference of the circle:\",circumference)\n",
    "#taking input and calculate the area\n",
    "new_radius=float(input(\"enter the radius value:\"))\n",
    "Area=constant*new_radius*new_radius\n",
    "print(\"for given radius:\",new_radius,\"\\nArea\",Area)\n"
   ]
  },
  {
   "cell_type": "markdown",
   "id": "822c952a",
   "metadata": {},
   "source": [
    "Q6"
   ]
  },
  {
   "cell_type": "code",
   "execution_count": 15,
   "id": "ffa54903",
   "metadata": {},
   "outputs": [
    {
     "name": "stdout",
     "output_type": "stream",
     "text": [
      "set: {'to', 'I', 'am', 'teacher', 'love', 'teach', 'people', 'a', 'and', 'inspire'}\n",
      "number of unique words: 10\n"
     ]
    }
   ],
   "source": [
    "statement=\"I am a teacher and I love to inspire and teach people\"\n",
    "\n",
    "#using split method for getting the individual elements\n",
    "split=statement.split(\" \")\n",
    "sp_set=set(split)\n",
    "print(\"set:\",sp_set)\n",
    "print(\"number of unique words:\",len(sp_set))\n"
   ]
  },
  {
   "cell_type": "markdown",
   "id": "484f72c5",
   "metadata": {},
   "source": [
    "Q7"
   ]
  },
  {
   "cell_type": "code",
   "execution_count": 16,
   "id": "bc1ec3fe",
   "metadata": {},
   "outputs": [
    {
     "name": "stdout",
     "output_type": "stream",
     "text": [
      "Name \tAge \tcountry \tcity\n",
      "Asabeneh \t250 \tFinland \tHelsinki\n"
     ]
    }
   ],
   "source": [
    "print('Name \\tAge \\tcountry \\tcity')\n",
    "print('Asabeneh \\t250 \\tFinland \\tHelsinki')\n"
   ]
  },
  {
   "cell_type": "markdown",
   "id": "40b1d9f3",
   "metadata": {},
   "source": [
    "Q8"
   ]
  },
  {
   "cell_type": "code",
   "execution_count": 21,
   "id": "4ccbdbe1",
   "metadata": {},
   "outputs": [
    {
     "name": "stdout",
     "output_type": "stream",
     "text": [
      "The area of a circle with radius10 is 314 meters square.\n"
     ]
    }
   ],
   "source": [
    "radius = 10\n",
    "area = int(3.14 * radius ** 2)\n",
    "#using string formatting method\n",
    "print('The area of a circle with radius{} is {} meters square.'.format(radius,area))\n"
   ]
  },
  {
   "cell_type": "markdown",
   "id": "f12673c0",
   "metadata": {},
   "source": [
    "Q9"
   ]
  },
  {
   "cell_type": "code",
   "execution_count": 2,
   "id": "3a393e41",
   "metadata": {},
   "outputs": [
    {
     "name": "stdout",
     "output_type": "stream",
     "text": [
      "Enter the Length:28\n",
      "[12.6]\n"
     ]
    }
   ],
   "source": [
    "#taking the input\n",
    "n=input('Enter the Length:')\n",
    "Lbs=n.split()\n",
    "#creating two lists one for lbs and other for kgs.\n",
    "kgs=[]\n",
    "for i in Lbs:\n",
    "    kgs.append((int(i)*0.45));\n",
    "print(kgs)"
   ]
  },
  {
   "cell_type": "code",
   "execution_count": null,
   "id": "33a923da",
   "metadata": {},
   "outputs": [],
   "source": []
  }
 ],
 "metadata": {
  "kernelspec": {
   "display_name": "Python 3 (ipykernel)",
   "language": "python",
   "name": "python3"
  },
  "language_info": {
   "codemirror_mode": {
    "name": "ipython",
    "version": 3
   },
   "file_extension": ".py",
   "mimetype": "text/x-python",
   "name": "python",
   "nbconvert_exporter": "python",
   "pygments_lexer": "ipython3",
   "version": "3.9.13"
  }
 },
 "nbformat": 4,
 "nbformat_minor": 5
}
